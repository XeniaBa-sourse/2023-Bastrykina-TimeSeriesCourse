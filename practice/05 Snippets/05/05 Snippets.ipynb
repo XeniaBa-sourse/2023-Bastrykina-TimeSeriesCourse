{
 "cells": [
  {
   "cell_type": "code",
   "execution_count": 1,
   "id": "d94cb88b",
   "metadata": {},
   "outputs": [
    {
     "name": "stdout",
     "output_type": "stream",
     "text": [
      "Collecting matrixprofile\n",
      "  Downloading matrixprofile-1.1.10.tar.gz (331 kB)\n",
      "     -------------------------------------- 331.6/331.6 kB 1.5 MB/s eta 0:00:00\n",
      "  Preparing metadata (setup.py): started\n",
      "  Preparing metadata (setup.py): finished with status 'done'\n",
      "Requirement already satisfied: numpy>=1.16.2 in c:\\users\\ksyub\\appdata\\local\\programs\\python\\python310\\lib\\site-packages (from matrixprofile) (1.23.2)\n",
      "Requirement already satisfied: matplotlib>=3.0.3 in c:\\users\\ksyub\\appdata\\local\\programs\\python\\python310\\lib\\site-packages (from matrixprofile) (3.5.3)\n",
      "Collecting protobuf==3.11.2 (from matrixprofile)\n",
      "  Downloading protobuf-3.11.2-py2.py3-none-any.whl (434 kB)\n",
      "     -------------------------------------- 434.3/434.3 kB 4.5 MB/s eta 0:00:00\n",
      "Requirement already satisfied: scipy<2.0.0,>=1.3.2 in c:\\users\\ksyub\\appdata\\local\\programs\\python\\python310\\lib\\site-packages (from matrixprofile) (1.9.1)\n",
      "Requirement already satisfied: six>=1.9 in c:\\users\\ksyub\\appdata\\local\\programs\\python\\python310\\lib\\site-packages (from protobuf==3.11.2->matrixprofile) (1.16.0)\n",
      "Requirement already satisfied: setuptools in c:\\users\\ksyub\\appdata\\local\\programs\\python\\python310\\lib\\site-packages (from protobuf==3.11.2->matrixprofile) (63.2.0)\n",
      "Requirement already satisfied: cycler>=0.10 in c:\\users\\ksyub\\appdata\\local\\programs\\python\\python310\\lib\\site-packages (from matplotlib>=3.0.3->matrixprofile) (0.11.0)\n",
      "Requirement already satisfied: fonttools>=4.22.0 in c:\\users\\ksyub\\appdata\\local\\programs\\python\\python310\\lib\\site-packages (from matplotlib>=3.0.3->matrixprofile) (4.37.1)\n",
      "Requirement already satisfied: kiwisolver>=1.0.1 in c:\\users\\ksyub\\appdata\\local\\programs\\python\\python310\\lib\\site-packages (from matplotlib>=3.0.3->matrixprofile) (1.4.4)\n",
      "Requirement already satisfied: packaging>=20.0 in c:\\users\\ksyub\\appdata\\local\\programs\\python\\python310\\lib\\site-packages (from matplotlib>=3.0.3->matrixprofile) (21.3)\n",
      "Requirement already satisfied: pillow>=6.2.0 in c:\\users\\ksyub\\appdata\\local\\programs\\python\\python310\\lib\\site-packages (from matplotlib>=3.0.3->matrixprofile) (9.3.0)\n",
      "Requirement already satisfied: pyparsing>=2.2.1 in c:\\users\\ksyub\\appdata\\local\\programs\\python\\python310\\lib\\site-packages (from matplotlib>=3.0.3->matrixprofile) (3.0.9)\n",
      "Requirement already satisfied: python-dateutil>=2.7 in c:\\users\\ksyub\\appdata\\local\\programs\\python\\python310\\lib\\site-packages (from matplotlib>=3.0.3->matrixprofile) (2.8.2)\n",
      "Building wheels for collected packages: matrixprofile\n",
      "  Building wheel for matrixprofile (setup.py): started\n",
      "  Building wheel for matrixprofile (setup.py): finished with status 'done'\n",
      "  Created wheel for matrixprofile: filename=matrixprofile-1.1.10-cp310-cp310-win_amd64.whl size=506820 sha256=81f164e36b59cc5280318a8e3a5e7b8731977ee2acc7fd92d8958928d3f02e86\n",
      "  Stored in directory: c:\\users\\ksyub\\appdata\\local\\pip\\cache\\wheels\\45\\2e\\c8\\9bd3457dccbc98f023176d6f59d429708844c8ee0cc047497f\n",
      "Successfully built matrixprofile\n",
      "Installing collected packages: protobuf, matrixprofile\n",
      "  Attempting uninstall: protobuf\n",
      "    Found existing installation: protobuf 3.19.6\n",
      "    Uninstalling protobuf-3.19.6:\n",
      "      Successfully uninstalled protobuf-3.19.6\n",
      "Successfully installed matrixprofile-1.1.10 protobuf-3.11.2\n"
     ]
    },
    {
     "name": "stderr",
     "output_type": "stream",
     "text": [
      "WARNING: Ignoring invalid distribution -pencv-python (c:\\users\\ksyub\\appdata\\local\\programs\\python\\python310\\lib\\site-packages)\n",
      "WARNING: Ignoring invalid distribution -rotobuf (c:\\users\\ksyub\\appdata\\local\\programs\\python\\python310\\lib\\site-packages)\n",
      "WARNING: Ignoring invalid distribution -pencv-python (c:\\users\\ksyub\\appdata\\local\\programs\\python\\python310\\lib\\site-packages)\n",
      "WARNING: Ignoring invalid distribution -rotobuf (c:\\users\\ksyub\\appdata\\local\\programs\\python\\python310\\lib\\site-packages)\n",
      "ERROR: pip's dependency resolver does not currently take into account all the packages that are installed. This behaviour is the source of the following dependency conflicts.\n",
      "grpcio-tools 1.53.0 requires protobuf<5.0dev,>=4.21.6, but you have protobuf 3.11.2 which is incompatible.\n",
      "WARNING: There was an error checking the latest version of pip.\n"
     ]
    }
   ],
   "source": [
    "!pip install matrixprofile"
   ]
  },
  {
   "cell_type": "code",
   "execution_count": null,
   "id": "202e0ba8",
   "metadata": {},
   "outputs": [],
   "source": []
  }
 ],
 "metadata": {
  "kernelspec": {
   "display_name": "Python 3 (ipykernel)",
   "language": "python",
   "name": "python3"
  },
  "language_info": {
   "codemirror_mode": {
    "name": "ipython",
    "version": 3
   },
   "file_extension": ".py",
   "mimetype": "text/x-python",
   "name": "python",
   "nbconvert_exporter": "python",
   "pygments_lexer": "ipython3",
   "version": "3.10.6"
  }
 },
 "nbformat": 4,
 "nbformat_minor": 5
}
